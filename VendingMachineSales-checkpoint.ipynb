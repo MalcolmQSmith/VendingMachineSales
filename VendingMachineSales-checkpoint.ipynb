{
 "cells": [
  {
   "cell_type": "markdown",
   "id": "f8a2cd79-89a0-4017-9a19-da7abb10ad81",
   "metadata": {},
   "source": [
    "## Vending Machine Sales Project"
   ]
  },
  {
   "cell_type": "markdown",
   "id": "0bb469c5-c853-46ca-96e7-90fd8c499fe7",
   "metadata": {},
   "source": [
    "#### Importing needed files and libraries"
   ]
  },
  {
   "cell_type": "code",
   "execution_count": 6,
   "id": "7f997923-f376-45ce-959b-d502d6f2ec5d",
   "metadata": {
    "tags": []
   },
   "outputs": [],
   "source": [
    "import pandas as pd\n",
    "import numpy as np\n",
    "import matplotlib.pyplot as plt\n",
    "import plotly.graph_objs as go\n",
    "from plotly.subplots import make_subplots\n",
    "import zipfile\n",
    "import kaggle"
   ]
  },
  {
   "cell_type": "code",
   "execution_count": 2,
   "id": "e65fe537-b84b-4fc6-965a-b5535bf9af85",
   "metadata": {
    "tags": []
   },
   "outputs": [
    {
     "name": "stdout",
     "output_type": "stream",
     "text": [
      "vending-machine-sales.zip: Skipping, found more recently modified local copy (use --force to force download)\n"
     ]
    }
   ],
   "source": [
    "!kaggle datasets download -d awesomeasingh/vending-machine-sales"
   ]
  },
  {
   "cell_type": "code",
   "execution_count": 8,
   "id": "6ff6d40a-45c1-498c-b604-8896fd51c007",
   "metadata": {
    "tags": []
   },
   "outputs": [],
   "source": [
    "# Extracting files and reading csv\n",
    "\n",
    "zipfile_name = 'vending-machine-sales.zip'\n",
    "with zipfile.ZipFile(zipfile_name, 'r') as file:\n",
    "    file.extractall()\n",
    "    \n",
    "vending_machine = pd.read_csv('vending_machine_sales.csv')"
   ]
  },
  {
   "cell_type": "markdown",
   "id": "d1108d68-fc52-46f2-9261-3a99370bdac4",
   "metadata": {},
   "source": [
    "#### Data Exploration"
   ]
  },
  {
   "cell_type": "code",
   "execution_count": 4,
   "id": "ec635dcb-5c65-416f-8048-9ca0ea251a57",
   "metadata": {
    "tags": []
   },
   "outputs": [
    {
     "name": "stdout",
     "output_type": "stream",
     "text": [
      "<class 'pandas.core.frame.DataFrame'>\n",
      "RangeIndex: 9617 entries, 0 to 9616\n",
      "Data columns (total 18 columns):\n",
      " #   Column       Non-Null Count  Dtype  \n",
      "---  ------       --------------  -----  \n",
      " 0   Status       9617 non-null   object \n",
      " 1   Device ID    9617 non-null   object \n",
      " 2   Location     9617 non-null   object \n",
      " 3   Machine      9617 non-null   object \n",
      " 4   Product      9611 non-null   object \n",
      " 5   Category     9350 non-null   object \n",
      " 6   Transaction  9617 non-null   int64  \n",
      " 7   TransDate    9617 non-null   object \n",
      " 8   Type         9617 non-null   object \n",
      " 9   RCoil        9617 non-null   int64  \n",
      " 10  RPrice       9617 non-null   float64\n",
      " 11  RQty         9617 non-null   int64  \n",
      " 12  MCoil        9617 non-null   int64  \n",
      " 13  MPrice       9614 non-null   float64\n",
      " 14  MQty         9617 non-null   int64  \n",
      " 15  LineTotal    9617 non-null   float64\n",
      " 16  TransTotal   9617 non-null   float64\n",
      " 17  Prcd Date    9617 non-null   object \n",
      "dtypes: float64(4), int64(5), object(9)\n",
      "memory usage: 1.3+ MB\n"
     ]
    }
   ],
   "source": [
    "# Viewing datatypes\n",
    "\n",
    "vending_machine.info()"
   ]
  },
  {
   "cell_type": "code",
   "execution_count": 5,
   "id": "c1f40132-6b6c-42a9-9a6e-1863ff762591",
   "metadata": {
    "tags": []
   },
   "outputs": [
    {
     "data": {
      "text/html": [
       "<div>\n",
       "<style scoped>\n",
       "    .dataframe tbody tr th:only-of-type {\n",
       "        vertical-align: middle;\n",
       "    }\n",
       "\n",
       "    .dataframe tbody tr th {\n",
       "        vertical-align: top;\n",
       "    }\n",
       "\n",
       "    .dataframe thead th {\n",
       "        text-align: right;\n",
       "    }\n",
       "</style>\n",
       "<table border=\"1\" class=\"dataframe\">\n",
       "  <thead>\n",
       "    <tr style=\"text-align: right;\">\n",
       "      <th></th>\n",
       "      <th>Status</th>\n",
       "      <th>Device ID</th>\n",
       "      <th>Location</th>\n",
       "      <th>Machine</th>\n",
       "      <th>Product</th>\n",
       "      <th>Category</th>\n",
       "      <th>Transaction</th>\n",
       "      <th>TransDate</th>\n",
       "      <th>Type</th>\n",
       "      <th>RCoil</th>\n",
       "      <th>RPrice</th>\n",
       "      <th>RQty</th>\n",
       "      <th>MCoil</th>\n",
       "      <th>MPrice</th>\n",
       "      <th>MQty</th>\n",
       "      <th>LineTotal</th>\n",
       "      <th>TransTotal</th>\n",
       "      <th>Prcd Date</th>\n",
       "    </tr>\n",
       "  </thead>\n",
       "  <tbody>\n",
       "    <tr>\n",
       "      <th>0</th>\n",
       "      <td>Processed</td>\n",
       "      <td>VJ300320611</td>\n",
       "      <td>Brunswick Sq Mall</td>\n",
       "      <td>BSQ Mall x1366 - ATT</td>\n",
       "      <td>Red Bull - Energy Drink - Sugar Free</td>\n",
       "      <td>Carbonated</td>\n",
       "      <td>14515778905</td>\n",
       "      <td>1/1/2022</td>\n",
       "      <td>Credit</td>\n",
       "      <td>148</td>\n",
       "      <td>3.5</td>\n",
       "      <td>1</td>\n",
       "      <td>148</td>\n",
       "      <td>3.5</td>\n",
       "      <td>1</td>\n",
       "      <td>3.5</td>\n",
       "      <td>3.5</td>\n",
       "      <td>1/1/2022</td>\n",
       "    </tr>\n",
       "    <tr>\n",
       "      <th>1</th>\n",
       "      <td>Processed</td>\n",
       "      <td>VJ300320611</td>\n",
       "      <td>Brunswick Sq Mall</td>\n",
       "      <td>BSQ Mall x1366 - ATT</td>\n",
       "      <td>Red Bull - Energy Drink - Sugar Free</td>\n",
       "      <td>Carbonated</td>\n",
       "      <td>14516018629</td>\n",
       "      <td>1/1/2022</td>\n",
       "      <td>Credit</td>\n",
       "      <td>148</td>\n",
       "      <td>3.5</td>\n",
       "      <td>1</td>\n",
       "      <td>148</td>\n",
       "      <td>3.5</td>\n",
       "      <td>1</td>\n",
       "      <td>3.5</td>\n",
       "      <td>5.0</td>\n",
       "      <td>1/1/2022</td>\n",
       "    </tr>\n",
       "    <tr>\n",
       "      <th>2</th>\n",
       "      <td>Processed</td>\n",
       "      <td>VJ300320611</td>\n",
       "      <td>Brunswick Sq Mall</td>\n",
       "      <td>BSQ Mall x1366 - ATT</td>\n",
       "      <td>Takis - Hot Chilli Pepper &amp; Lime</td>\n",
       "      <td>Food</td>\n",
       "      <td>14516018629</td>\n",
       "      <td>1/1/2022</td>\n",
       "      <td>Credit</td>\n",
       "      <td>123</td>\n",
       "      <td>1.5</td>\n",
       "      <td>1</td>\n",
       "      <td>123</td>\n",
       "      <td>1.5</td>\n",
       "      <td>1</td>\n",
       "      <td>1.5</td>\n",
       "      <td>5.0</td>\n",
       "      <td>1/1/2022</td>\n",
       "    </tr>\n",
       "    <tr>\n",
       "      <th>3</th>\n",
       "      <td>Processed</td>\n",
       "      <td>VJ300320611</td>\n",
       "      <td>Brunswick Sq Mall</td>\n",
       "      <td>BSQ Mall x1366 - ATT</td>\n",
       "      <td>Takis - Hot Chilli Pepper &amp; Lime</td>\n",
       "      <td>Food</td>\n",
       "      <td>14516020373</td>\n",
       "      <td>1/1/2022</td>\n",
       "      <td>Credit</td>\n",
       "      <td>123</td>\n",
       "      <td>1.5</td>\n",
       "      <td>1</td>\n",
       "      <td>123</td>\n",
       "      <td>1.5</td>\n",
       "      <td>1</td>\n",
       "      <td>1.5</td>\n",
       "      <td>1.5</td>\n",
       "      <td>1/1/2022</td>\n",
       "    </tr>\n",
       "    <tr>\n",
       "      <th>4</th>\n",
       "      <td>Processed</td>\n",
       "      <td>VJ300320611</td>\n",
       "      <td>Brunswick Sq Mall</td>\n",
       "      <td>BSQ Mall x1366 - ATT</td>\n",
       "      <td>Red Bull - Energy Drink - Sugar Free</td>\n",
       "      <td>Carbonated</td>\n",
       "      <td>14516021756</td>\n",
       "      <td>1/1/2022</td>\n",
       "      <td>Credit</td>\n",
       "      <td>148</td>\n",
       "      <td>3.5</td>\n",
       "      <td>1</td>\n",
       "      <td>148</td>\n",
       "      <td>3.5</td>\n",
       "      <td>1</td>\n",
       "      <td>3.5</td>\n",
       "      <td>3.5</td>\n",
       "      <td>1/1/2022</td>\n",
       "    </tr>\n",
       "  </tbody>\n",
       "</table>\n",
       "</div>"
      ],
      "text/plain": [
       "      Status    Device ID           Location               Machine  \\\n",
       "0  Processed  VJ300320611  Brunswick Sq Mall  BSQ Mall x1366 - ATT   \n",
       "1  Processed  VJ300320611  Brunswick Sq Mall  BSQ Mall x1366 - ATT   \n",
       "2  Processed  VJ300320611  Brunswick Sq Mall  BSQ Mall x1366 - ATT   \n",
       "3  Processed  VJ300320611  Brunswick Sq Mall  BSQ Mall x1366 - ATT   \n",
       "4  Processed  VJ300320611  Brunswick Sq Mall  BSQ Mall x1366 - ATT   \n",
       "\n",
       "                                Product    Category  Transaction TransDate  \\\n",
       "0  Red Bull - Energy Drink - Sugar Free  Carbonated  14515778905  1/1/2022   \n",
       "1  Red Bull - Energy Drink - Sugar Free  Carbonated  14516018629  1/1/2022   \n",
       "2      Takis - Hot Chilli Pepper & Lime        Food  14516018629  1/1/2022   \n",
       "3      Takis - Hot Chilli Pepper & Lime        Food  14516020373  1/1/2022   \n",
       "4  Red Bull - Energy Drink - Sugar Free  Carbonated  14516021756  1/1/2022   \n",
       "\n",
       "     Type  RCoil  RPrice  RQty  MCoil  MPrice  MQty  LineTotal  TransTotal  \\\n",
       "0  Credit    148     3.5     1    148     3.5     1        3.5         3.5   \n",
       "1  Credit    148     3.5     1    148     3.5     1        3.5         5.0   \n",
       "2  Credit    123     1.5     1    123     1.5     1        1.5         5.0   \n",
       "3  Credit    123     1.5     1    123     1.5     1        1.5         1.5   \n",
       "4  Credit    148     3.5     1    148     3.5     1        3.5         3.5   \n",
       "\n",
       "  Prcd Date  \n",
       "0  1/1/2022  \n",
       "1  1/1/2022  \n",
       "2  1/1/2022  \n",
       "3  1/1/2022  \n",
       "4  1/1/2022  "
      ]
     },
     "execution_count": 5,
     "metadata": {},
     "output_type": "execute_result"
    }
   ],
   "source": [
    "# Viewing beginning of dataframe\n",
    "vending_machine.head()"
   ]
  },
  {
   "cell_type": "code",
   "execution_count": 6,
   "id": "bf1269a1-db2e-4ded-a2f4-840d538e161e",
   "metadata": {
    "tags": []
   },
   "outputs": [
    {
     "data": {
      "text/html": [
       "<div>\n",
       "<style scoped>\n",
       "    .dataframe tbody tr th:only-of-type {\n",
       "        vertical-align: middle;\n",
       "    }\n",
       "\n",
       "    .dataframe tbody tr th {\n",
       "        vertical-align: top;\n",
       "    }\n",
       "\n",
       "    .dataframe thead th {\n",
       "        text-align: right;\n",
       "    }\n",
       "</style>\n",
       "<table border=\"1\" class=\"dataframe\">\n",
       "  <thead>\n",
       "    <tr style=\"text-align: right;\">\n",
       "      <th></th>\n",
       "      <th>Status</th>\n",
       "      <th>Device ID</th>\n",
       "      <th>Location</th>\n",
       "      <th>Machine</th>\n",
       "      <th>Product</th>\n",
       "      <th>Category</th>\n",
       "      <th>Transaction</th>\n",
       "      <th>TransDate</th>\n",
       "      <th>Type</th>\n",
       "      <th>RCoil</th>\n",
       "      <th>RPrice</th>\n",
       "      <th>RQty</th>\n",
       "      <th>MCoil</th>\n",
       "      <th>MPrice</th>\n",
       "      <th>MQty</th>\n",
       "      <th>LineTotal</th>\n",
       "      <th>TransTotal</th>\n",
       "      <th>Prcd Date</th>\n",
       "    </tr>\n",
       "  </thead>\n",
       "  <tbody>\n",
       "    <tr>\n",
       "      <th>9612</th>\n",
       "      <td>Processed</td>\n",
       "      <td>VJ300320609</td>\n",
       "      <td>GuttenPlans</td>\n",
       "      <td>GuttenPlans x1367</td>\n",
       "      <td>Doritos Nacho Cheese</td>\n",
       "      <td>Food</td>\n",
       "      <td>16175373362</td>\n",
       "      <td>12/30/2022</td>\n",
       "      <td>Cash</td>\n",
       "      <td>112</td>\n",
       "      <td>1.5</td>\n",
       "      <td>1</td>\n",
       "      <td>112</td>\n",
       "      <td>1.5</td>\n",
       "      <td>1</td>\n",
       "      <td>1.5</td>\n",
       "      <td>1.5</td>\n",
       "      <td>12/30/2022</td>\n",
       "    </tr>\n",
       "    <tr>\n",
       "      <th>9613</th>\n",
       "      <td>Processed</td>\n",
       "      <td>VJ300320611</td>\n",
       "      <td>Brunswick Sq Mall</td>\n",
       "      <td>BSQ Mall x1366 - ATT</td>\n",
       "      <td>Poland Springs Water</td>\n",
       "      <td>Water</td>\n",
       "      <td>16176802941</td>\n",
       "      <td>12/31/2022</td>\n",
       "      <td>Cash</td>\n",
       "      <td>143</td>\n",
       "      <td>1.5</td>\n",
       "      <td>1</td>\n",
       "      <td>143</td>\n",
       "      <td>1.5</td>\n",
       "      <td>1</td>\n",
       "      <td>1.5</td>\n",
       "      <td>1.5</td>\n",
       "      <td>12/31/2022</td>\n",
       "    </tr>\n",
       "    <tr>\n",
       "      <th>9614</th>\n",
       "      <td>Processed</td>\n",
       "      <td>VJ300205292</td>\n",
       "      <td>Brunswick Sq Mall</td>\n",
       "      <td>BSQ Mall x1364 - Zales</td>\n",
       "      <td>Robert Irvine's - Fit Crunch -  Chocolate Pea</td>\n",
       "      <td>Food</td>\n",
       "      <td>16176909481</td>\n",
       "      <td>12/31/2022</td>\n",
       "      <td>Cash</td>\n",
       "      <td>137</td>\n",
       "      <td>2.0</td>\n",
       "      <td>1</td>\n",
       "      <td>137</td>\n",
       "      <td>2.0</td>\n",
       "      <td>1</td>\n",
       "      <td>2.0</td>\n",
       "      <td>2.0</td>\n",
       "      <td>12/31/2022</td>\n",
       "    </tr>\n",
       "    <tr>\n",
       "      <th>9615</th>\n",
       "      <td>Processed</td>\n",
       "      <td>VJ300320611</td>\n",
       "      <td>Brunswick Sq Mall</td>\n",
       "      <td>BSQ Mall x1366 - ATT</td>\n",
       "      <td>Poland Springs Water</td>\n",
       "      <td>Water</td>\n",
       "      <td>16176914301</td>\n",
       "      <td>12/31/2022</td>\n",
       "      <td>Cash</td>\n",
       "      <td>143</td>\n",
       "      <td>1.5</td>\n",
       "      <td>1</td>\n",
       "      <td>143</td>\n",
       "      <td>1.5</td>\n",
       "      <td>1</td>\n",
       "      <td>1.5</td>\n",
       "      <td>1.5</td>\n",
       "      <td>12/31/2022</td>\n",
       "    </tr>\n",
       "    <tr>\n",
       "      <th>9616</th>\n",
       "      <td>Processed</td>\n",
       "      <td>VJ300205292</td>\n",
       "      <td>Brunswick Sq Mall</td>\n",
       "      <td>BSQ Mall x1364 - Zales</td>\n",
       "      <td>Coca Cola - Zero Sugar</td>\n",
       "      <td>Carbonated</td>\n",
       "      <td>16177325723</td>\n",
       "      <td>12/31/2022</td>\n",
       "      <td>Cash</td>\n",
       "      <td>140</td>\n",
       "      <td>1.5</td>\n",
       "      <td>1</td>\n",
       "      <td>140</td>\n",
       "      <td>1.5</td>\n",
       "      <td>1</td>\n",
       "      <td>1.5</td>\n",
       "      <td>1.5</td>\n",
       "      <td>12/31/2022</td>\n",
       "    </tr>\n",
       "  </tbody>\n",
       "</table>\n",
       "</div>"
      ],
      "text/plain": [
       "         Status    Device ID           Location                 Machine  \\\n",
       "9612  Processed  VJ300320609        GuttenPlans       GuttenPlans x1367   \n",
       "9613  Processed  VJ300320611  Brunswick Sq Mall    BSQ Mall x1366 - ATT   \n",
       "9614  Processed  VJ300205292  Brunswick Sq Mall  BSQ Mall x1364 - Zales   \n",
       "9615  Processed  VJ300320611  Brunswick Sq Mall    BSQ Mall x1366 - ATT   \n",
       "9616  Processed  VJ300205292  Brunswick Sq Mall  BSQ Mall x1364 - Zales   \n",
       "\n",
       "                                            Product    Category  Transaction  \\\n",
       "9612                           Doritos Nacho Cheese        Food  16175373362   \n",
       "9613                           Poland Springs Water       Water  16176802941   \n",
       "9614  Robert Irvine's - Fit Crunch -  Chocolate Pea        Food  16176909481   \n",
       "9615                           Poland Springs Water       Water  16176914301   \n",
       "9616                         Coca Cola - Zero Sugar  Carbonated  16177325723   \n",
       "\n",
       "       TransDate  Type  RCoil  RPrice  RQty  MCoil  MPrice  MQty  LineTotal  \\\n",
       "9612  12/30/2022  Cash    112     1.5     1    112     1.5     1        1.5   \n",
       "9613  12/31/2022  Cash    143     1.5     1    143     1.5     1        1.5   \n",
       "9614  12/31/2022  Cash    137     2.0     1    137     2.0     1        2.0   \n",
       "9615  12/31/2022  Cash    143     1.5     1    143     1.5     1        1.5   \n",
       "9616  12/31/2022  Cash    140     1.5     1    140     1.5     1        1.5   \n",
       "\n",
       "      TransTotal   Prcd Date  \n",
       "9612         1.5  12/30/2022  \n",
       "9613         1.5  12/31/2022  \n",
       "9614         2.0  12/31/2022  \n",
       "9615         1.5  12/31/2022  \n",
       "9616         1.5  12/31/2022  "
      ]
     },
     "execution_count": 6,
     "metadata": {},
     "output_type": "execute_result"
    }
   ],
   "source": [
    "# Viewing end of dataframe\n",
    "\n",
    "vending_machine.tail()"
   ]
  },
  {
   "cell_type": "code",
   "execution_count": 7,
   "id": "1c312c73-40f8-43b1-a70c-f3430c4df495",
   "metadata": {
    "tags": []
   },
   "outputs": [
    {
     "data": {
      "text/plain": [
       "GuttenPlans x1367          3664\n",
       "EB Public Library x1380    3180\n",
       "Earle Asphalt x1371        1034\n",
       "BSQ Mall x1364 - Zales      940\n",
       "BSQ Mall x1366 - ATT        799\n",
       "Name: Machine, dtype: int64"
      ]
     },
     "execution_count": 7,
     "metadata": {},
     "output_type": "execute_result"
    }
   ],
   "source": [
    "# Counting how many vending machines\n",
    "vending_machine.Machine.value_counts()"
   ]
  },
  {
   "cell_type": "code",
   "execution_count": 8,
   "id": "9e63ecbd-b9c8-495d-9786-89e551e7c991",
   "metadata": {
    "tags": []
   },
   "outputs": [
    {
     "data": {
      "text/plain": [
       "Coca Cola - Zero Sugar                           648\n",
       "Monster Energy Original                          516\n",
       "Poland Springs Water                             443\n",
       "Coca Cola - Regular                              350\n",
       "Sunkist Soda - Orange                            290\n",
       "                                                ... \n",
       "Nature's Valley Crunchy Granola Bar - Oats &       1\n",
       "Nature's Valley Chewy Granola Bar - Fruit & N      1\n",
       "Quaker Cheddar Rice Crisps                         1\n",
       "Orchard Bar - Pineapple Coconut & Macadamia        1\n",
       "Orchard Bar - Cranberry Orange & Walnut            1\n",
       "Name: Product, Length: 184, dtype: int64"
      ]
     },
     "execution_count": 8,
     "metadata": {},
     "output_type": "execute_result"
    }
   ],
   "source": [
    "# Counting how many products in vending machines\n",
    "vending_machine.Product.value_counts()"
   ]
  },
  {
   "cell_type": "code",
   "execution_count": 9,
   "id": "46bd7078-ad00-42bd-a44d-48ebe6bd6169",
   "metadata": {
    "tags": []
   },
   "outputs": [
    {
     "data": {
      "text/plain": [
       "GuttenPlans          3664\n",
       "EB Public Library    3180\n",
       "Brunswick Sq Mall    1739\n",
       "Earle Asphalt        1034\n",
       "Name: Location, dtype: int64"
      ]
     },
     "execution_count": 9,
     "metadata": {},
     "output_type": "execute_result"
    }
   ],
   "source": [
    "# Counting locations that have our vending machines\n",
    "vending_machine.Location.value_counts()"
   ]
  },
  {
   "cell_type": "markdown",
   "id": "e7bc4cef-9de0-449b-a68b-0d427e1f881e",
   "metadata": {},
   "source": [
    "#### Data Cleaning"
   ]
  },
  {
   "cell_type": "code",
   "execution_count": 52,
   "id": "c8aac0d4-7ed3-45d4-9dce-741fadf0b3e7",
   "metadata": {
    "tags": []
   },
   "outputs": [
    {
     "data": {
      "text/html": [
       "<div>\n",
       "<style scoped>\n",
       "    .dataframe tbody tr th:only-of-type {\n",
       "        vertical-align: middle;\n",
       "    }\n",
       "\n",
       "    .dataframe tbody tr th {\n",
       "        vertical-align: top;\n",
       "    }\n",
       "\n",
       "    .dataframe thead th {\n",
       "        text-align: right;\n",
       "    }\n",
       "</style>\n",
       "<table border=\"1\" class=\"dataframe\">\n",
       "  <thead>\n",
       "    <tr style=\"text-align: right;\">\n",
       "      <th></th>\n",
       "      <th>Device ID</th>\n",
       "      <th>Location</th>\n",
       "      <th>Machine</th>\n",
       "      <th>Product</th>\n",
       "      <th>Category</th>\n",
       "      <th>Transaction</th>\n",
       "      <th>TransDate</th>\n",
       "      <th>Type</th>\n",
       "      <th>RQty</th>\n",
       "      <th>MPrice</th>\n",
       "      <th>MQty</th>\n",
       "      <th>LineTotal</th>\n",
       "      <th>TransTotal</th>\n",
       "    </tr>\n",
       "  </thead>\n",
       "  <tbody>\n",
       "    <tr>\n",
       "      <th>0</th>\n",
       "      <td>VJ300320611</td>\n",
       "      <td>Brunswick Sq Mall</td>\n",
       "      <td>BSQ Mall x1366 - ATT</td>\n",
       "      <td>Red Bull - Energy Drink - Sugar Free</td>\n",
       "      <td>Carbonated</td>\n",
       "      <td>14515778905</td>\n",
       "      <td>1/1/2022</td>\n",
       "      <td>Credit</td>\n",
       "      <td>1</td>\n",
       "      <td>3.5</td>\n",
       "      <td>1</td>\n",
       "      <td>3.5</td>\n",
       "      <td>3.5</td>\n",
       "    </tr>\n",
       "    <tr>\n",
       "      <th>1</th>\n",
       "      <td>VJ300320611</td>\n",
       "      <td>Brunswick Sq Mall</td>\n",
       "      <td>BSQ Mall x1366 - ATT</td>\n",
       "      <td>Red Bull - Energy Drink - Sugar Free</td>\n",
       "      <td>Carbonated</td>\n",
       "      <td>14516018629</td>\n",
       "      <td>1/1/2022</td>\n",
       "      <td>Credit</td>\n",
       "      <td>1</td>\n",
       "      <td>3.5</td>\n",
       "      <td>1</td>\n",
       "      <td>3.5</td>\n",
       "      <td>5.0</td>\n",
       "    </tr>\n",
       "    <tr>\n",
       "      <th>2</th>\n",
       "      <td>VJ300320611</td>\n",
       "      <td>Brunswick Sq Mall</td>\n",
       "      <td>BSQ Mall x1366 - ATT</td>\n",
       "      <td>Takis - Hot Chilli Pepper &amp; Lime</td>\n",
       "      <td>Food</td>\n",
       "      <td>14516018629</td>\n",
       "      <td>1/1/2022</td>\n",
       "      <td>Credit</td>\n",
       "      <td>1</td>\n",
       "      <td>1.5</td>\n",
       "      <td>1</td>\n",
       "      <td>1.5</td>\n",
       "      <td>5.0</td>\n",
       "    </tr>\n",
       "    <tr>\n",
       "      <th>3</th>\n",
       "      <td>VJ300320611</td>\n",
       "      <td>Brunswick Sq Mall</td>\n",
       "      <td>BSQ Mall x1366 - ATT</td>\n",
       "      <td>Takis - Hot Chilli Pepper &amp; Lime</td>\n",
       "      <td>Food</td>\n",
       "      <td>14516020373</td>\n",
       "      <td>1/1/2022</td>\n",
       "      <td>Credit</td>\n",
       "      <td>1</td>\n",
       "      <td>1.5</td>\n",
       "      <td>1</td>\n",
       "      <td>1.5</td>\n",
       "      <td>1.5</td>\n",
       "    </tr>\n",
       "    <tr>\n",
       "      <th>4</th>\n",
       "      <td>VJ300320611</td>\n",
       "      <td>Brunswick Sq Mall</td>\n",
       "      <td>BSQ Mall x1366 - ATT</td>\n",
       "      <td>Red Bull - Energy Drink - Sugar Free</td>\n",
       "      <td>Carbonated</td>\n",
       "      <td>14516021756</td>\n",
       "      <td>1/1/2022</td>\n",
       "      <td>Credit</td>\n",
       "      <td>1</td>\n",
       "      <td>3.5</td>\n",
       "      <td>1</td>\n",
       "      <td>3.5</td>\n",
       "      <td>3.5</td>\n",
       "    </tr>\n",
       "    <tr>\n",
       "      <th>...</th>\n",
       "      <td>...</td>\n",
       "      <td>...</td>\n",
       "      <td>...</td>\n",
       "      <td>...</td>\n",
       "      <td>...</td>\n",
       "      <td>...</td>\n",
       "      <td>...</td>\n",
       "      <td>...</td>\n",
       "      <td>...</td>\n",
       "      <td>...</td>\n",
       "      <td>...</td>\n",
       "      <td>...</td>\n",
       "      <td>...</td>\n",
       "    </tr>\n",
       "    <tr>\n",
       "      <th>9612</th>\n",
       "      <td>VJ300320609</td>\n",
       "      <td>GuttenPlans</td>\n",
       "      <td>GuttenPlans x1367</td>\n",
       "      <td>Doritos Nacho Cheese</td>\n",
       "      <td>Food</td>\n",
       "      <td>16175373362</td>\n",
       "      <td>12/30/2022</td>\n",
       "      <td>Cash</td>\n",
       "      <td>1</td>\n",
       "      <td>1.5</td>\n",
       "      <td>1</td>\n",
       "      <td>1.5</td>\n",
       "      <td>1.5</td>\n",
       "    </tr>\n",
       "    <tr>\n",
       "      <th>9613</th>\n",
       "      <td>VJ300320611</td>\n",
       "      <td>Brunswick Sq Mall</td>\n",
       "      <td>BSQ Mall x1366 - ATT</td>\n",
       "      <td>Poland Springs Water</td>\n",
       "      <td>Water</td>\n",
       "      <td>16176802941</td>\n",
       "      <td>12/31/2022</td>\n",
       "      <td>Cash</td>\n",
       "      <td>1</td>\n",
       "      <td>1.5</td>\n",
       "      <td>1</td>\n",
       "      <td>1.5</td>\n",
       "      <td>1.5</td>\n",
       "    </tr>\n",
       "    <tr>\n",
       "      <th>9614</th>\n",
       "      <td>VJ300205292</td>\n",
       "      <td>Brunswick Sq Mall</td>\n",
       "      <td>BSQ Mall x1364 - Zales</td>\n",
       "      <td>Robert Irvine's - Fit Crunch -  Chocolate Pea</td>\n",
       "      <td>Food</td>\n",
       "      <td>16176909481</td>\n",
       "      <td>12/31/2022</td>\n",
       "      <td>Cash</td>\n",
       "      <td>1</td>\n",
       "      <td>2.0</td>\n",
       "      <td>1</td>\n",
       "      <td>2.0</td>\n",
       "      <td>2.0</td>\n",
       "    </tr>\n",
       "    <tr>\n",
       "      <th>9615</th>\n",
       "      <td>VJ300320611</td>\n",
       "      <td>Brunswick Sq Mall</td>\n",
       "      <td>BSQ Mall x1366 - ATT</td>\n",
       "      <td>Poland Springs Water</td>\n",
       "      <td>Water</td>\n",
       "      <td>16176914301</td>\n",
       "      <td>12/31/2022</td>\n",
       "      <td>Cash</td>\n",
       "      <td>1</td>\n",
       "      <td>1.5</td>\n",
       "      <td>1</td>\n",
       "      <td>1.5</td>\n",
       "      <td>1.5</td>\n",
       "    </tr>\n",
       "    <tr>\n",
       "      <th>9616</th>\n",
       "      <td>VJ300205292</td>\n",
       "      <td>Brunswick Sq Mall</td>\n",
       "      <td>BSQ Mall x1364 - Zales</td>\n",
       "      <td>Coca Cola - Zero Sugar</td>\n",
       "      <td>Carbonated</td>\n",
       "      <td>16177325723</td>\n",
       "      <td>12/31/2022</td>\n",
       "      <td>Cash</td>\n",
       "      <td>1</td>\n",
       "      <td>1.5</td>\n",
       "      <td>1</td>\n",
       "      <td>1.5</td>\n",
       "      <td>1.5</td>\n",
       "    </tr>\n",
       "  </tbody>\n",
       "</table>\n",
       "<p>9617 rows × 13 columns</p>\n",
       "</div>"
      ],
      "text/plain": [
       "        Device ID           Location                 Machine  \\\n",
       "0     VJ300320611  Brunswick Sq Mall    BSQ Mall x1366 - ATT   \n",
       "1     VJ300320611  Brunswick Sq Mall    BSQ Mall x1366 - ATT   \n",
       "2     VJ300320611  Brunswick Sq Mall    BSQ Mall x1366 - ATT   \n",
       "3     VJ300320611  Brunswick Sq Mall    BSQ Mall x1366 - ATT   \n",
       "4     VJ300320611  Brunswick Sq Mall    BSQ Mall x1366 - ATT   \n",
       "...           ...                ...                     ...   \n",
       "9612  VJ300320609        GuttenPlans       GuttenPlans x1367   \n",
       "9613  VJ300320611  Brunswick Sq Mall    BSQ Mall x1366 - ATT   \n",
       "9614  VJ300205292  Brunswick Sq Mall  BSQ Mall x1364 - Zales   \n",
       "9615  VJ300320611  Brunswick Sq Mall    BSQ Mall x1366 - ATT   \n",
       "9616  VJ300205292  Brunswick Sq Mall  BSQ Mall x1364 - Zales   \n",
       "\n",
       "                                            Product    Category  Transaction  \\\n",
       "0              Red Bull - Energy Drink - Sugar Free  Carbonated  14515778905   \n",
       "1              Red Bull - Energy Drink - Sugar Free  Carbonated  14516018629   \n",
       "2                  Takis - Hot Chilli Pepper & Lime        Food  14516018629   \n",
       "3                  Takis - Hot Chilli Pepper & Lime        Food  14516020373   \n",
       "4              Red Bull - Energy Drink - Sugar Free  Carbonated  14516021756   \n",
       "...                                             ...         ...          ...   \n",
       "9612                           Doritos Nacho Cheese        Food  16175373362   \n",
       "9613                           Poland Springs Water       Water  16176802941   \n",
       "9614  Robert Irvine's - Fit Crunch -  Chocolate Pea        Food  16176909481   \n",
       "9615                           Poland Springs Water       Water  16176914301   \n",
       "9616                         Coca Cola - Zero Sugar  Carbonated  16177325723   \n",
       "\n",
       "       TransDate    Type  RQty  MPrice  MQty  LineTotal  TransTotal  \n",
       "0       1/1/2022  Credit     1     3.5     1        3.5         3.5  \n",
       "1       1/1/2022  Credit     1     3.5     1        3.5         5.0  \n",
       "2       1/1/2022  Credit     1     1.5     1        1.5         5.0  \n",
       "3       1/1/2022  Credit     1     1.5     1        1.5         1.5  \n",
       "4       1/1/2022  Credit     1     3.5     1        3.5         3.5  \n",
       "...          ...     ...   ...     ...   ...        ...         ...  \n",
       "9612  12/30/2022    Cash     1     1.5     1        1.5         1.5  \n",
       "9613  12/31/2022    Cash     1     1.5     1        1.5         1.5  \n",
       "9614  12/31/2022    Cash     1     2.0     1        2.0         2.0  \n",
       "9615  12/31/2022    Cash     1     1.5     1        1.5         1.5  \n",
       "9616  12/31/2022    Cash     1     1.5     1        1.5         1.5  \n",
       "\n",
       "[9617 rows x 13 columns]"
      ]
     },
     "execution_count": 52,
     "metadata": {},
     "output_type": "execute_result"
    }
   ],
   "source": [
    "# Removing not needed columns\n",
    "vending_machine.drop(columns=['Status', 'RCoil','RPrice', 'MCoil', 'Prcd Date'])"
   ]
  },
  {
   "cell_type": "code",
   "execution_count": 24,
   "id": "7d8d0508-e276-42ac-bf91-3bdf36fda4e1",
   "metadata": {
    "tags": []
   },
   "outputs": [
    {
     "name": "stdout",
     "output_type": "stream",
     "text": [
      "Status         0\n",
      "Device ID      0\n",
      "Location       0\n",
      "Machine        0\n",
      "Product        0\n",
      "Category       0\n",
      "Transaction    0\n",
      "TransDate      0\n",
      "Type           0\n",
      "RCoil          0\n",
      "RPrice         0\n",
      "RQty           0\n",
      "MCoil          0\n",
      "MPrice         0\n",
      "MQty           0\n",
      "LineTotal      0\n",
      "TransTotal     0\n",
      "Prcd Date      0\n",
      "dtype: int64\n"
     ]
    }
   ],
   "source": [
    "# Removing null values \n",
    "vending_machine_new = vending_machine.dropna()\n",
    "print(vending_machine_new.isnull().sum())\n"
   ]
  },
  {
   "cell_type": "markdown",
   "id": "e80bda99-9686-4938-bfea-a1ccf72128e9",
   "metadata": {},
   "source": [
    "#### Question 1: What is the best selling vending machine location?"
   ]
  },
  {
   "cell_type": "code",
   "execution_count": 86,
   "id": "ecd64921-7f10-4b72-977c-47d16e3757e8",
   "metadata": {
    "tags": []
   },
   "outputs": [
    {
     "data": {
      "text/plain": [
       "Location\n",
       "GuttenPlans          7945.75\n",
       "EB Public Library    7744.00\n",
       "Brunswick Sq Mall    3708.00\n",
       "Earle Asphalt        1956.50\n",
       "Name: TransTotal, dtype: float64"
      ]
     },
     "execution_count": 86,
     "metadata": {},
     "output_type": "execute_result"
    }
   ],
   "source": [
    "# Grouping the vending machine data by location and calculate the total transaction amount for each location\n",
    "best_selling_location_results = vending_machine.groupby('Location')['TransTotal'].sum().sort_values(ascending=False)\n",
    "best_selling_location_results"
   ]
  },
  {
   "cell_type": "code",
   "execution_count": 37,
   "id": "c1cf2d58-33f9-407c-9f86-5841e309f61b",
   "metadata": {
    "tags": []
   },
   "outputs": [
    {
     "data": {
      "image/png": "[encoded data removed]",
      "text/plain": [
       "<Figure size 640x480 with 1 Axes>"
      ]
     },
     "metadata": {},
     "output_type": "display_data"
    }
   ],
   "source": [
    "# Find the location with the highest sales\n",
    "best_selling_location = best_selling_location_results.idxmax()\n",
    "\n",
    "# Create a bar chart of sales by location\n",
    "best_selling_location_results.plot(kind='bar')\n",
    "\n",
    "# Set chart title, axis labels, and showing chart results\n",
    "plt.title('Best Selling Vending Machine Location')\n",
    "plt.xlabel('Location')\n",
    "plt.ylabel('Total Sales in USD ($)')\n",
    "\n",
    "plt.show()"
   ]
  },
  {
   "cell_type": "markdown",
   "id": "9434fada-a94e-412a-a780-577b40b87fcb",
   "metadata": {},
   "source": [
    "#### Question 2: What is the best selling product category in our vending machines?"
   ]
  },
  {
   "cell_type": "code",
   "execution_count": 84,
   "id": "04b38110-52be-4681-9e41-32ab6a1529ff",
   "metadata": {
    "tags": []
   },
   "outputs": [
    {
     "data": {
      "text/plain": [
       "Category\n",
       "Food              10938.50\n",
       "Carbonated         5290.75\n",
       "Non Carbonated     2938.75\n",
       "Water              1343.50\n",
       "Name: TransTotal, dtype: float64"
      ]
     },
     "execution_count": 84,
     "metadata": {},
     "output_type": "execute_result"
    }
   ],
   "source": [
    "# Grouping the vending machine data by category and calculate the total transaction amount for vending machine\n",
    "best_selling_category_results = vending_machine.groupby('Category')['TransTotal'].sum().sort_values(ascending=False)\n",
    "best_selling_category_results"
   ]
  },
  {
   "cell_type": "code",
   "execution_count": 43,
   "id": "54bca71e-4c6b-4ea9-8e90-e9fa09d4776a",
   "metadata": {
    "tags": []
   },
   "outputs": [
    {
     "data": {
      "image/png": "[encoded data removed]",
      "text/plain": [
       "<Figure size 640x480 with 1 Axes>"
      ]
     },
     "metadata": {},
     "output_type": "display_data"
    }
   ],
   "source": [
    "# Find the category with the highest sales\n",
    "best_selling_category = best_selling_category_results.idxmax()\n",
    "\n",
    "# Create a bar chart of sales by category\n",
    "best_selling_category_results.plot(kind='bar')\n",
    "\n",
    "# Set chart title, axis labels, and showing chart results\n",
    "plt.title('Best Selling Categories in Vending Machines')\n",
    "plt.xlabel('Category')\n",
    "plt.ylabel('Total Sales in USD ($)')\n",
    "\n",
    "plt.show()"
   ]
  },
  {
   "cell_type": "markdown",
   "id": "2f8f73f9-e593-485e-847d-83371515bde9",
   "metadata": {},
   "source": [
    "#### Question 3: What is the best selling month from our vending machines?"
   ]
  },
  {
   "cell_type": "code",
   "execution_count": 14,
   "id": "47c63854-7e2a-48c9-86e1-90b43db77a24",
   "metadata": {
    "tags": []
   },
   "outputs": [],
   "source": [
    "# Importing Calendar to update month to list the name of the month for the bar chart\n",
    "import calendar\n",
    "\n",
    "# Changing datatype for 'TransDate' to datetime\n",
    "vending_machine['TransDate'] = pd.to_datetime(vending_machine['TransDate'])\n",
    "\n",
    "# Creating new column for month of each transcation\n",
    "vending_machine['Month'] = vending_machine['TransDate'].dt.month.apply(lambda x: calendar.month_name[x])"
   ]
  },
  {
   "cell_type": "code",
   "execution_count": 83,
   "id": "b9b9dbc0-b958-4373-be89-94677489ba28",
   "metadata": {
    "tags": []
   },
   "outputs": [
    {
     "name": "stdout",
     "output_type": "stream",
     "text": [
      "Month\n",
      "July         2529.00\n",
      "August       2403.50\n",
      "June         2177.25\n",
      "September    2014.50\n",
      "May          1894.25\n",
      "Name: TransTotal, dtype: float64\n"
     ]
    }
   ],
   "source": [
    "# Grouping the vending machine data by product and calculate the total transaction amount for vending machine\n",
    "best_selling_month_results = vending_machine.groupby('Month')['TransTotal'].sum().sort_values(ascending=False)\n",
    "print(best_selling_month_results.head(5))\n",
    "\n",
    "# Define a list of month names in chronological order\n",
    "month_names = ['January', 'February', 'March', 'April', 'May', 'June', 'July', 'August', 'September', 'October', 'November', 'December']\n",
    "\n",
    "# Reindex the results by the list of month names\n",
    "best_selling_month_results = best_selling_month_results.reindex(month_names)"
   ]
  },
  {
   "cell_type": "code",
   "execution_count": 49,
   "id": "c8b37c00-7aab-4cbc-9042-c9e3e258f677",
   "metadata": {},
   "outputs": [
    {
     "data": {
      "image/png": "[encoded data removed]",
      "text/plain": [
       "<Figure size 640x480 with 1 Axes>"
      ]
     },
     "metadata": {},
     "output_type": "display_data"
    }
   ],
   "source": [
    "# Finding Month with highest sales\n",
    "best_selling_month = best_selling_month_results.idxmax()\n",
    "\n",
    "# Plotting best selling month via bar chart\n",
    "best_selling_month_results.plot(kind='bar')\n",
    "\n",
    "# Set chart title, axis labels, and showing chart results\n",
    "plt.title('Best Selling Month from Vending Machines')\n",
    "plt.xlabel('Month')\n",
    "plt.ylabel('Total Sales in USD ($)')\n",
    "\n",
    "plt.show()"
   ]
  },
  {
   "cell_type": "markdown",
   "id": "f8cd878e-fcec-42fe-98af-a3fa07d551a4",
   "metadata": {},
   "source": [
    "#### Question 4: What were the top selling products during our best selling month?"
   ]
  },
  {
   "cell_type": "code",
   "execution_count": 59,
   "id": "4c9c8215-6fdd-4aa7-874b-689191e033fa",
   "metadata": {
    "tags": []
   },
   "outputs": [
    {
     "data": {
      "text/plain": [
       "Product\n",
       "Monster Energy Original                        223.00\n",
       "KitKat - Crisp Wafers                          151.75\n",
       "Coca Cola - Zero Sugar                         119.50\n",
       "Coca Cola - Regular                            115.50\n",
       "Poland Springs Water                            96.00\n",
       "                                                ...  \n",
       "Hungry Buddha - Coconut Cocoa                    2.00\n",
       "Spindrift - Sparkling Water - Pineapple          1.50\n",
       "Nature's Garden Trail Mix - Omega 3              1.50\n",
       "Pop Corners - Spicy Queso                        1.50\n",
       "Belvita Breakfast Biscuit Bites - Blueberry      1.50\n",
       "Name: TransTotal, Length: 97, dtype: float64"
      ]
     },
     "execution_count": 59,
     "metadata": {},
     "output_type": "execute_result"
    }
   ],
   "source": [
    "# Listing best selling products from July \n",
    "best_selling_in_july = vending_machine[vending_machine['Month'] == 'July'].groupby('Product')['TransTotal'].sum().sort_values(ascending=False)\n",
    "best_selling_in_july"
   ]
  },
  {
   "cell_type": "markdown",
   "id": "241178dd-164f-4ef7-8232-f813fe58188e",
   "metadata": {},
   "source": [
    "#### Question 5: What are the top selling beverage products?"
   ]
  },
  {
   "cell_type": "code",
   "execution_count": 78,
   "id": "26c16e57-f530-4da0-8e62-19292379e0a5",
   "metadata": {
    "tags": []
   },
   "outputs": [
    {
     "name": "stdout",
     "output_type": "stream",
     "text": [
      "Product\n",
      "Monster Energy Original                     1583.00\n",
      "Coca Cola - Zero Sugar                      1081.00\n",
      "Red Bull - Original                          825.50\n",
      "Poland Springs Water                         788.25\n",
      "Coca Cola - Regular                          563.50\n",
      "Sunkist Soda - Orange                        383.00\n",
      "Starbucks Refresher - Real Coconut Water     365.75\n",
      "S. Pellegrino Sparkling Mineral Water        142.00\n",
      "BodyArmor LYTE  - Peach Mango                131.00\n",
      "Spindrift - Sparkling Water  Lime            117.25\n",
      "Name: TransTotal, dtype: float64\n"
     ]
    }
   ],
   "source": [
    "# Listing best selling beverage products\n",
    "best_selling_beverages = vending_machine[vending_machine['Category'].isin(['Carbonated', 'Water'])].groupby('Product')['TransTotal'].sum().sort_values(ascending=False)\n",
    "print(best_selling_beverages.head(10))"
   ]
  },
  {
   "cell_type": "markdown",
   "id": "91057a9e-3a42-493c-8a00-647c89958550",
   "metadata": {},
   "source": [
    "#### Question 6: What are the top selling food products?"
   ]
  },
  {
   "cell_type": "code",
   "execution_count": 87,
   "id": "98019265-9c57-415c-91ce-5d6df95d708a",
   "metadata": {
    "tags": []
   },
   "outputs": [
    {
     "name": "stdout",
     "output_type": "stream",
     "text": [
      "Product\n",
      "KitKat - Crisp Wafers                            750.25\n",
      "Wonderful Pistachios - Variety                   467.00\n",
      "SunChips Multigrain - Harvest Cheddar            386.00\n",
      "Robert Irvine's - Fit Crunch -  Chocolate Pea    375.75\n",
      "CheezIt - Original                               371.00\n",
      "SunChips Multigrain - Salsa                      355.00\n",
      "Oreo Mini                                        269.25\n",
      "SunChips Multigrain - Original                   269.25\n",
      "Goldfish Baked - Cheddar                         230.50\n",
      "Kinder - Bueno - Crispy Creamy Chocolate         218.75\n",
      "Name: TransTotal, dtype: float64\n"
     ]
    }
   ],
   "source": [
    "# Listing top selling food products\n",
    "\n",
    "best_selling_food_products = vending_machine[vending_machine['Category'].isin(['Food'])].groupby('Product')['TransTotal'].sum().sort_values(ascending=False)\n",
    "print(best_selling_food_products.head(10))"
   ]
  },
  {
   "cell_type": "markdown",
   "id": "eab85d66-edc9-4480-a21f-b5497539b28a",
   "metadata": {},
   "source": [
    "#### Question 7: What were the lowest selling products?"
   ]
  },
  {
   "cell_type": "code",
   "execution_count": 76,
   "id": "75b23b93-c87f-4995-b652-1929178132c4",
   "metadata": {
    "tags": []
   },
   "outputs": [
    {
     "name": "stdout",
     "output_type": "stream",
     "text": [
      "Product\n",
      "Nature's Valley Crunchy Granola Bar - Oats &     1.25\n",
      "Nature's Valley Chewy Granola Bar - Fruit & N    1.25\n",
      "Orchard Bar - Cranberry Orange & Walnut          2.00\n",
      "Larabar - Peanut Butter chocolate Chip           2.00\n",
      "Orchard Bar - Pineapple Coconut & Macadamia      2.00\n",
      "Belvita Snack Packs - Cinnamon                   2.50\n",
      "Spindrift - Sparkling Water Raspberry Lime       3.00\n",
      "Pure Organic Fruit Bar - Pineapple Passion Fr    3.00\n",
      "Quaker Cheddar Rice Crisps                       3.50\n",
      "Keep Healthy - Chocolate Coconut                 4.00\n",
      "Name: TransTotal, dtype: float64\n"
     ]
    }
   ],
   "source": [
    "# Listing lowest selling products\n",
    "\n",
    "lowest_selling_products = vending_machine.groupby('Product')['TransTotal'].sum().sort_values(ascending=True)\n",
    "print(lowest_selling_products.head(10))"
   ]
  },
  {
   "cell_type": "code",
   "execution_count": null,
   "id": "b98c7b07-0889-439a-abbc-8a180a6ff584",
   "metadata": {},
   "outputs": [],
   "source": []
  }
 ],
 "metadata": {
  "kernelspec": {
   "display_name": "Python 3 (ipykernel)",
   "language": "python",
   "name": "python3"
  },
  "language_info": {
   "codemirror_mode": {
    "name": "ipython",
    "version": 3
   },
   "file_extension": ".py",
   "mimetype": "text/x-python",
   "name": "python",
   "nbconvert_exporter": "python",
   "pygments_lexer": "ipython3",
   "version": "3.11.1"
  }
 },
 "nbformat": 4,
 "nbformat_minor": 5
}
